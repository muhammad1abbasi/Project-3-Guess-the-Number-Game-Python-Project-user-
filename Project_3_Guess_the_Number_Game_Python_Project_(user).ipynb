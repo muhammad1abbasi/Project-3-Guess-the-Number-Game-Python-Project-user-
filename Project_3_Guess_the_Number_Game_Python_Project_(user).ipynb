{
  "nbformat": 4,
  "nbformat_minor": 0,
  "metadata": {
    "colab": {
      "provenance": [],
      "authorship_tag": "ABX9TyNgTS+/qeio6aE2/WAyPkMS",
      "include_colab_link": true
    },
    "kernelspec": {
      "name": "python3",
      "display_name": "Python 3"
    },
    "language_info": {
      "name": "python"
    }
  },
  "cells": [
    {
      "cell_type": "markdown",
      "metadata": {
        "id": "view-in-github",
        "colab_type": "text"
      },
      "source": [
        "<a href=\"https://colab.research.google.com/github/muhammad1abbasi/Project-3-Guess-the-Number-Game-Python-Project-user-/blob/main/Project_3_Guess_the_Number_Game_Python_Project_(user).ipynb\" target=\"_parent\"><img src=\"https://colab.research.google.com/assets/colab-badge.svg\" alt=\"Open In Colab\"/></a>"
      ]
    },
    {
      "cell_type": "markdown",
      "source": [
        "Project 3: Guess the Number Game Python Project (user)"
      ],
      "metadata": {
        "id": "OH0wzoj7RPmd"
      }
    },
    {
      "cell_type": "code",
      "source": [
        "import random\n",
        "\n",
        "def computer_guess():\n",
        "  print(\"Think of a number between 1 and 100, and I will try to guess it!\")\n",
        "  low, high = 1, 100\n",
        "  attempts = 0\n",
        "\n",
        "  while True:\n",
        "    guess = random.randint(low, high)\n",
        "    attempts += 1\n",
        "\n",
        "    print(f\"Is your number {guess}? (Enter 'h' for too high, 'l' for too low, 'c' for correct)\")\n",
        "    feedback = input().lower()\n",
        "\n",
        "    if feedback == 'h':\n",
        "      high = guess - 1\n",
        "    elif feedback == 'l':\n",
        "      low = guess + 1\n",
        "    elif feedback == 'c':\n",
        "      print(f\"Yay I guessed your number in {attempts} attempts.\")\n",
        "      break\n",
        "    else:\n",
        "      print(\"Invalid input Please enter 'h', 'l', or 'c'.\")\n",
        "if __name__ == \"__main__\":\n",
        "  computer_guess()"
      ],
      "metadata": {
        "colab": {
          "base_uri": "https://localhost:8080/"
        },
        "id": "g6mvFifWRVbt",
        "outputId": "8cb5cf8c-78bf-4331-c044-209d9a85ed70"
      },
      "execution_count": 3,
      "outputs": [
        {
          "output_type": "stream",
          "name": "stdout",
          "text": [
            "Think of a number between 1 and 100, and I will try to guess it!\n",
            "Is your number 64? (Enter 'h' for too high, 'l' for too low, 'c' for correct)\n",
            "4\n",
            "Invalid input Please enter 'h', 'l', or 'c'.\n",
            "Is your number 65? (Enter 'h' for too high, 'l' for too low, 'c' for correct)\n",
            "c\n",
            "Yay I guessed your number in 2 attempts.\n"
          ]
        }
      ]
    }
  ]
}